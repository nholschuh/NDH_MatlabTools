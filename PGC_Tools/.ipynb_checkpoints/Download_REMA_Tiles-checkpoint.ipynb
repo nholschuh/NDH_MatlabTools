{
 "cells": [
  {
   "cell_type": "code",
   "execution_count": 1,
   "id": "4f76874a-8cc3-4f53-8c63-676153930289",
   "metadata": {},
   "outputs": [],
   "source": [
    "import geopandas as gpd"
   ]
  },
  {
   "cell_type": "code",
   "execution_count": 22,
   "id": "25c9acef-7836-4a53-9625-fcce88a9bbc3",
   "metadata": {},
   "outputs": [],
   "source": [
    "%matplotlib widget"
   ]
  },
  {
   "cell_type": "code",
   "execution_count": 70,
   "id": "0561e726-3cc7-4d90-96a5-16099e267ade",
   "metadata": {},
   "outputs": [],
   "source": [
    "from shapely.geometry import Polygon, LineString, Point\n",
    "\n",
    "data = gpd.read_file('REMA_Tile_Index_Rel1_1.shp')\n",
    "target = Point(400000,25000)\n",
    "\n",
    "vals = data.buffer(10**-1).contains(target)\n",
    "vals = [vals]\n",
    "trash, ki = np.where(vals)"
   ]
  },
  {
   "cell_type": "code",
   "execution_count": 71,
   "id": "364a216f-81e9-4ad5-8d1f-93efd646890e",
   "metadata": {},
   "outputs": [
    {
     "data": {
      "application/vnd.jupyter.widget-view+json": {
       "model_id": "e980d2a3ba194f42a8a97cc06ef5b702",
       "version_major": 2,
       "version_minor": 0
      },
      "text/plain": [
       "Canvas(toolbar=Toolbar(toolitems=[('Home', 'Reset original view', 'home', 'home'), ('Back', 'Back to previous …"
      ]
     },
     "metadata": {},
     "output_type": "display_data"
    },
    {
     "data": {
      "text/plain": [
       "[<matplotlib.lines.Line2D at 0x7f3308102310>]"
      ]
     },
     "execution_count": 71,
     "metadata": {},
     "output_type": "execute_result"
    }
   ],
   "source": [
    "data.plot()\n",
    "plt.plot(target,'o',color='red')"
   ]
  },
  {
   "cell_type": "code",
   "execution_count": 72,
   "id": "8708ea94-2e1c-4795-998a-1d8e118fdb97",
   "metadata": {},
   "outputs": [
    {
     "data": {
      "application/vnd.jupyter.widget-view+json": {
       "model_id": "58126a37fc964f3a9f38bf8b60c853c5",
       "version_major": 2,
       "version_minor": 0
      },
      "text/plain": [
       "Canvas(toolbar=Toolbar(toolitems=[('Home', 'Reset original view', 'home', 'home'), ('Back', 'Back to previous …"
      ]
     },
     "metadata": {},
     "output_type": "display_data"
    },
    {
     "data": {
      "text/plain": [
       "[<matplotlib.lines.Line2D at 0x7f33949d90d0>]"
      ]
     },
     "execution_count": 72,
     "metadata": {},
     "output_type": "execute_result"
    }
   ],
   "source": [
    "import matplotlib.pyplot as plt\n",
    "plt.figure()\n",
    "plt.plot(vals[0])"
   ]
  },
  {
   "cell_type": "code",
   "execution_count": 83,
   "id": "09011692-6e3b-45b5-a971-eceba03171c4",
   "metadata": {},
   "outputs": [
    {
     "name": "stderr",
     "output_type": "stream",
     "text": [
      "/usr/lib/python3/dist-packages/urllib3/connectionpool.py:999: InsecureRequestWarning: Unverified HTTPS request is being made to host 'data.pgc.umn.edu'. Adding certificate verification is strongly advised. See: https://urllib3.readthedocs.io/en/latest/advanced-usage.html#ssl-warnings\n",
      "  warnings.warn(\n",
      "/usr/lib/python3/dist-packages/urllib3/connectionpool.py:999: InsecureRequestWarning: Unverified HTTPS request is being made to host 'data.pgc.umn.edu'. Adding certificate verification is strongly advised. See: https://urllib3.readthedocs.io/en/latest/advanced-usage.html#ssl-warnings\n",
      "  warnings.warn(\n"
     ]
    }
   ],
   "source": [
    "import requests\n",
    "\n",
    "\n",
    "url = data.iloc[ki[0]]['fileurl']\n",
    "\n",
    "\n",
    "\n",
    "\n",
    "########## Here we set the filename\n",
    "local_filename = 'temp.tar'\n",
    "\n",
    "\n",
    "########## This does the downloading\n",
    "r = requests.get(url, verify=False)\n",
    "with requests.get(url, stream=True, verify=False) as r:\n",
    "        r.raise_for_status()\n",
    "        with open(local_filename, 'wb') as f:\n",
    "            for chunk in r.iter_content(chunk_size=8192): \n",
    "                # If you have chunk encoded response uncomment if\n",
    "                # and set chunk_size parameter to None.\n",
    "                #if chunk: \n",
    "                f.write(chunk)\n",
    "                \n",
    "!tar -xvf temp.tar $fname\n",
    "!rm temp.tar"
   ]
  },
  {
   "cell_type": "code",
   "execution_count": null,
   "id": "5cca1a19-492f-4588-9a26-6e5fde75d426",
   "metadata": {},
   "outputs": [],
   "source": [
    "url"
   ]
  },
  {
   "cell_type": "code",
   "execution_count": 85,
   "id": "47e7fd2c-c54e-42cf-9041-13e9dfefb444",
   "metadata": {},
   "outputs": [],
   "source": [
    "import rioxarray as rxr\n",
    "td = rxr.open_rasterio('31_34_8m_dem.tif')"
   ]
  },
  {
   "cell_type": "code",
   "execution_count": 90,
   "id": "1d14731e-383d-4b3c-ac38-c40493abfd19",
   "metadata": {},
   "outputs": [
    {
     "data": {
      "application/vnd.jupyter.widget-view+json": {
       "model_id": "531a7147bcb94487a34cc758523a9408",
       "version_major": 2,
       "version_minor": 0
      },
      "text/plain": [
       "Canvas(toolbar=Toolbar(toolitems=[('Home', 'Reset original view', 'home', 'home'), ('Back', 'Back to previous …"
      ]
     },
     "metadata": {},
     "output_type": "display_data"
    },
    {
     "data": {
      "text/plain": [
       "<matplotlib.image.AxesImage at 0x7f32357c5460>"
      ]
     },
     "execution_count": 90,
     "metadata": {},
     "output_type": "execute_result"
    }
   ],
   "source": [
    "plt.figure()\n",
    "td[0,:,:].plot.imshow(vmin=2900)"
   ]
  },
  {
   "cell_type": "code",
   "execution_count": null,
   "id": "1c83e83d-a6f7-42c1-92c1-964ed1200133",
   "metadata": {},
   "outputs": [],
   "source": []
  },
  {
   "cell_type": "code",
   "execution_count": null,
   "id": "95ec1264-751b-4fcd-8c2f-fea341921519",
   "metadata": {},
   "outputs": [],
   "source": []
  },
  {
   "cell_type": "code",
   "execution_count": null,
   "id": "dd4c14f2-c2d5-49d0-8dd0-29958f9ccf97",
   "metadata": {},
   "outputs": [],
   "source": []
  }
 ],
 "metadata": {
  "kernelspec": {
   "display_name": "Python 3 (ipykernel)",
   "language": "python",
   "name": "python3"
  },
  "language_info": {
   "codemirror_mode": {
    "name": "ipython",
    "version": 3
   },
   "file_extension": ".py",
   "mimetype": "text/x-python",
   "name": "python",
   "nbconvert_exporter": "python",
   "pygments_lexer": "ipython3",
   "version": "3.8.10"
  }
 },
 "nbformat": 4,
 "nbformat_minor": 5
}
